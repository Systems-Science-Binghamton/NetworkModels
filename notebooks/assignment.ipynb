{
 "cells": [
  {
   "cell_type": "code",
   "execution_count": null,
   "id": "1f3ccfec",
   "metadata": {},
   "outputs": [],
   "source": [
    "from scipy import sparse\n",
    "import pandas as pd\n",
    "import igraph\n",
    "import numpy as np\n",
    "from scipy import stats\n",
    "\n",
    "\n",
    "edge_table = pd.read_csv(\n",
    "    \"https://snap.stanford.edu/data/as20000102.txt.gz\",\n",
    "    skiprows=4,\n",
    "    sep=\"\\t\",\n",
    "    header=None,\n",
    "    names=[\"src\", \"trg\"],\n",
    ")\n",
    "\n",
    "# Reindexing\n",
    "edge_table_flattened = edge_table[[\"src\", \"trg\"]].values.reshape(\n",
    "    -1\n",
    ")  # flatten the edge table\n",
    "reindexed_edge_table_flattened = np.unique(edge_table_flattened, return_inverse=True)[\n",
    "    1\n",
    "]  # Reinedxing\n",
    "edge_table.loc[:, [\"src\", \"trg\"]] = reindexed_edge_table_flattened.reshape(\n",
    "    (-1, 2)\n",
    ")  # Resize\n",
    "\n",
    "# Get edge ids\n",
    "src, trg = tuple(edge_table[[\"src\", \"trg\"]].values.T)\n",
    "\n",
    "# Remove self loops\n",
    "is_self_loop = src == trg\n",
    "src = src[~is_self_loop]\n",
    "trg = trg[~is_self_loop]\n",
    "\n",
    "# Create igraph Graph object\n",
    "edge_list = tuple(zip(src, trg))\n",
    "g = igraph.Graph(edge_list, directed=False)\n",
    "n_nodes = g.vcount()\n",
    "n_edges = g.ecount()\n",
    "\n",
    "# Create the adajacency matrix\n",
    "A = g.get_adjacency_sparse()\n",
    "\n",
    "print(f\"\\# of nodes = {n_nodes}, \\# of edges = {n_edges}\")"
   ]
  },
  {
   "cell_type": "markdown",
   "id": "8d567549",
   "metadata": {},
   "source": [
    "# Assignment \n",
    "**Q1 Draw the rich club coefficient as a function of $k$ for an Erdős–Rényi random graph of 5000 nodes with the edge probability of $p=1/500$. You can use igraph.API, e.g., `igraph.Graph.Erdos_Renyi(n=15, p=0.2, directed=False, loops=False)`** "
   ]
  },
  {
   "cell_type": "code",
   "execution_count": null,
   "id": "9e53afae",
   "metadata": {
    "tags": [
     "answer"
    ]
   },
   "outputs": [],
   "source": [
    "grand = igraph.Graph.Erdos_Renyi(n=5999, p=1.0 / 500, directed=False, loops=False)\n",
    "\n",
    "Arand = grand.get_adjacency_sparse()\n",
    "deg = np.array(Arand.sum(axis=1)).reshape(-1)\n",
    "\n",
    "results = []\n",
    "for k in np.unique(deg):\n",
    "    psi = rich_club_coefficient(Arand, k)\n",
    "    results.append({\"k\": k, \"psi\": psi, \"model\": \"ER\"})\n",
    "plot_data = pd.DataFrame(results)\n",
    "\n",
    "fig, ax = plt.subplots(figsize=(5, 5))\n",
    "sns.lineplot(x=\"k\", y=\"psi\", data=plot_data, marker=\"o\", ax=ax)\n",
    "ax.set_xlabel(\"Degree, $k$\")\n",
    "ax.set_ylabel(\"Rich club coefficient\")\n",
    "ax.set_xscale(\"log\")\n",
    "ax.set_yscale(\"log\")\n",
    "sns.despine()"
   ]
  },
  {
   "cell_type": "code",
   "execution_count": null,
   "id": "6c982c36",
   "metadata": {},
   "outputs": [],
   "source": []
  },
  {
   "cell_type": "markdown",
   "id": "9127456d",
   "metadata": {},
   "source": [
    "---\n",
    "\n",
    "**Q2: Plot the rich club coefficient against the degree ($k$) for both the original Internet network and the configuration model that precisely preserves the degree. The configuration model can be generated using the 'g.rewire' function. Please note that the 'g.rewire' API is an in-place operation, so create a copy of the network before executing the .rewire API.** "
   ]
  },
  {
   "cell_type": "code",
   "execution_count": null,
   "id": "76bbd120",
   "metadata": {
    "tags": [
     "answer"
    ]
   },
   "outputs": [],
   "source": [
    "grand = g.copy()\n",
    "\n",
    "grand.rewire()\n",
    "\n",
    "Arand = grand.get_adjacency_sparse()\n",
    "deg = np.array(Arand.sum(axis=1)).reshape(-1)\n",
    "\n",
    "results = []\n",
    "for k in np.unique(deg):\n",
    "    psi = rich_club_coefficient(Arand, k)\n",
    "    results.append({\"k\": k, \"psi\": psi, \"model\": \"Configuration model\"})\n",
    "\n",
    "    psi = rich_club_coefficient(A, k)\n",
    "    results.append({\"k\": k, \"psi\": psi, \"model\": \"Original\"})\n",
    "plot_data = pd.DataFrame(results)\n",
    "\n",
    "fig, ax = plt.subplots(figsize=(5, 5))\n",
    "sns.lineplot(x=\"k\", y=\"psi\", data=plot_data, marker=\"o\", ax=ax, hue=\"model\")\n",
    "ax.set_xlabel(\"Degree, $k$\")\n",
    "ax.set_ylabel(\"Rich club coefficient\")\n",
    "ax.set_xscale(\"log\")\n",
    "ax.set_yscale(\"log\")\n",
    "sns.despine()"
   ]
  },
  {
   "cell_type": "code",
   "execution_count": null,
   "id": "369a7d80",
   "metadata": {},
   "outputs": [],
   "source": []
  },
  {
   "cell_type": "markdown",
   "id": "f4ac6aef",
   "metadata": {},
   "source": [
    "---\n",
    "\n",
    "**Q3: Compute the normalized rich club coefficient numerically by using 30 realizations of the configuration model. And draw a figure of the degree vs the degree-normalized rich club coefficient**"
   ]
  },
  {
   "cell_type": "code",
   "execution_count": null,
   "id": "ade209d7",
   "metadata": {},
   "outputs": [],
   "source": []
  },
  {
   "cell_type": "markdown",
   "id": "00c19dfa",
   "metadata": {},
   "source": [
    "---\n",
    "\n",
    "**Q4: Implement the preferential attachment model below. And generate a network based on the preferential attachment model with $m=5$ and $n$ being the number of nodes in the Internet network. Then, plot the CCDF of the degree distributions for the Internet network and the preferential attachment in the same plot in a log-log scale. Do not forget to label your x and y axes, and clearly indicate which distribution corresponds to which model.**"
   ]
  },
  {
   "cell_type": "code",
   "execution_count": null,
   "id": "e39a3602",
   "metadata": {},
   "outputs": [],
   "source": [
    "def preferential_attachment_model(n, m, n0=20, m0=1):\n",
    "    \"\"\"\n",
    "    Generate a graph using the preferential attachment model. The network is unweighted and undirected.\n",
    "\n",
    "    Parameters\n",
    "    ----------\n",
    "    n : int\n",
    "        The number of new nodes at each time step.\n",
    "    m : int\n",
    "        The number of edges to attach from a new node to existing nodes.\n",
    "    n0 : int\n",
    "        The initial number of nodes in the network.\n",
    "    m0 : int\n",
    "        The offset number of edges.\n",
    "\n",
    "    Returns\n",
    "    -------\n",
    "    A : scipy.sparse matrix\n",
    "        Adjacency matrix of the generated network.\n",
    "\n",
    "    Hint:\n",
    "    - At first, create a star graph of n0 nodes, where one node connects to every other nodes, but the every other nodes are not connected with each other.\n",
    "    - Then, for iterate over n - n0 time steps. At each time step, add a new node and connect it to m existing nodes.\n",
    "    - The probability of connecting a new node to an existing node is proportional to the degree plus m0 of the existing node.\n",
    "    - To sample a node based on the probability, you can use `np.random.choice`. Use `replace=False` to avoid multiple edges between the same pair of nodes.\n",
    "    \"\"\"\n",
    "    ..."
   ]
  },
  {
   "cell_type": "code",
   "execution_count": null,
   "id": "1ca4c647",
   "metadata": {
    "tags": [
     "answer"
    ]
   },
   "outputs": [],
   "source": [
    "def preferential_attachment_model(n, m, n0=20, m0=1):\n",
    "    \"\"\"\n",
    "    Generate a graph using the preferential attachment model. The network is unweighted and undirected.\n",
    "\n",
    "    Parameters\n",
    "    ----------\n",
    "    n : int\n",
    "        The number of new nodes at each time step.\n",
    "    m : int\n",
    "        The number of edges to attach from a new node to existing nodes.\n",
    "    n0 : int\n",
    "        The initial number of nodes in the network.\n",
    "    m0 : int\n",
    "        The offset number of edges.\n",
    "\n",
    "    Returns\n",
    "    -------\n",
    "    A : scipy.sparse matrix\n",
    "        Adjacency matrix of the generated network.\n",
    "\n",
    "    Hint:\n",
    "    - At first, create a star graph of n0 nodes, where one node connects to every other nodes, but the every other nodes are not connected with each other.\n",
    "    - Then, for iterate over n - n0 time steps. At each time step, add a new node and connect it to m existing nodes.\n",
    "    - The probability of connecting a new node to an existing node is proportional to the degree plus m0 of the existing node.\n",
    "    - To sample a node based on the probability, you can use `np.random.choice`. Use `replace=False` to avoid multiple edges between the same pair of nodes.\n",
    "    \"\"\"\n",
    "\n",
    "    # Create a star graph\n",
    "    src = np.zeros(n0 - 1, dtype=int)\n",
    "    trg = np.arange(1, n0)\n",
    "    deg = np.ones(n0, dtype=int) * (m0 + 1)\n",
    "    deg[0] = n0 - 1 + m0\n",
    "\n",
    "    n_nodes = n0\n",
    "    for _ in range(n - n0):\n",
    "        # Sample m nodes based on the degree\n",
    "        new_trg = np.random.choice(len(deg), p=deg / deg.sum(), size=m, replace=False)\n",
    "\n",
    "        # increment the degree\n",
    "        deg[new_trg] += 1\n",
    "\n",
    "        deg = np.concatenate([deg, np.ones(1) * (m + m0)])\n",
    "\n",
    "        src = np.concatenate([src, np.ones(m) * n_nodes])\n",
    "        trg = np.concatenate([trg, new_trg])\n",
    "\n",
    "        n_nodes += 1\n",
    "\n",
    "    # Construct the adjacnecy matrix\n",
    "    rows, cols = src, trg\n",
    "    nrows, ncols = n_nodes, n_nodes\n",
    "    A = sparse.csr_matrix(\n",
    "        (np.ones_like(rows), (rows, cols)),\n",
    "        shape=(nrows, ncols),\n",
    "    )\n",
    "    A = A + A.T\n",
    "    return A"
   ]
  },
  {
   "cell_type": "code",
   "execution_count": null,
   "id": "e04ac9ef",
   "metadata": {
    "tags": [
     "answer"
    ]
   },
   "outputs": [],
   "source": [
    "# Generate random network\n",
    "n = A.shape[0]\n",
    "\n",
    "Arand = preferential_attachment_model(n=n, m=5, n0=10, m0=1)\n",
    "\n",
    "\n",
    "# Compute the degree\n",
    "deg = np.array(A.sum(axis=0)).ravel()\n",
    "deg_rand = np.array(Arand.sum(axis=0)).ravel()\n",
    "\n",
    "# Plot the degree distributions\n",
    "import matplotlib.pyplot as plt\n",
    "import seaborn as sns\n",
    "\n",
    "fig, ax = plt.subplots(1, 1, figsize=(5, 5))\n",
    "\n",
    "ax = sns.ecdfplot(\n",
    "    deg,\n",
    "    label=\"Original\",\n",
    "    complementary=True,\n",
    "    log_scale=(True, True),\n",
    "    ax=ax,\n",
    ")\n",
    "ax = sns.ecdfplot(\n",
    "    deg_rand,\n",
    "    label=\"Preferential attachment model\",\n",
    "    complementary=True,\n",
    "    log_scale=(True, True),\n",
    "    ax=ax,\n",
    ")\n",
    "ax.legend(frameon=False)\n",
    "ax.set_xlabel(\"Degree\")\n",
    "sns.despine()"
   ]
  },
  {
   "cell_type": "markdown",
   "id": "e13236a2",
   "metadata": {},
   "source": [
    "You should see a heterogeneous degree distribution with a fat-trail distribution, similar to the one for the citation network. Although the distribution is different, it's remarkable that a simple model like the preferential attachment model can reproduce the heterogeneous degree distribution to a large extent. "
   ]
  }
 ],
 "metadata": {
  "kernelspec": {
   "display_name": "advnetsci",
   "language": "python",
   "name": "python3"
  },
  "language_info": {
   "codemirror_mode": {
    "name": "ipython",
    "version": 3
   },
   "file_extension": ".py",
   "mimetype": "text/x-python",
   "name": "python",
   "nbconvert_exporter": "python",
   "pygments_lexer": "ipython3",
   "version": "3.9.16"
  }
 },
 "nbformat": 4,
 "nbformat_minor": 5
}
